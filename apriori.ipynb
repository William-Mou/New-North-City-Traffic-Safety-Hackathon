{
 "cells": [
  {
   "cell_type": "code",
   "execution_count": 44,
   "metadata": {},
   "outputs": [],
   "source": [
    "#載入資料\n",
    "import csv\n",
    "import numpy as np\n",
    "\n",
    "# 開啟 CSV 檔案\n",
    "with open('106年樞紐分析表(有交叉路名及其他地點).csv', newline='',encoding=\"big5\") as accident:\n",
    "    accident = csv.reader(accident)\n",
    "    accident = [row for row in accident]\n",
    "\n"
   ]
  },
  {
   "cell_type": "code",
   "execution_count": 45,
   "metadata": {},
   "outputs": [
    {
     "name": "stdout",
     "output_type": "stream",
     "text": [
      "0  發生年 1  發生月 2  發生日 3  處理單位(分局別) 4  處理單位(派出所) 5  鄉鎮市 6  道路型態 7  年齡 8  屬性 9  死亡人數 10  受傷人數 11  當事人別 12  當事者區分 13  肇事原因 14  路段 15  巷 16  弄 17  門牌號 18  交叉路名 19  事故類別 20  發生時間 21  事故類型及型態 22  其他地點 23  天候 24  光線 25  道路類別 26  速限 27  事故位置 28  路面狀況-路面鋪裝 29  路面狀況-路面狀態 30  路面狀況-路面缺陷 31  道路障礙-障礙物視距 32  道路障礙-視距 33  號誌-號誌種類 34  號誌-號誌動作 35  車道劃分設施-分道設施-快車道或一般車道間 36  車道劃分設施-分道設施-快慢車道間 37  車道劃分設施-分道設施-路面邊線 38  車道劃分設施-分向設施 39  保護裝備 40  當事者行動狀態 41  駕駛資格情形 42  駕駛執照種類 43  飲酒情形 44  交通事故逃逸 45  受傷程度 46  主要傷處 47  行動電話、電腦或其他相類功能裝置 48  肇事逃逸 49  公路 50  公里 51  公尺 52  方向 53  車道 54  件數 \n",
      "6  道路型態\n",
      "7  年齡\n",
      "12  當事者區分\n",
      "13  肇事原因\n",
      "19  事故類別\n",
      "20  發生時間\n",
      "21  事故類型及型態\n",
      "23  天候\n",
      "24  光線\n",
      "25  道路類別\n",
      "27  事故位置\n",
      "28  路面狀況-路面鋪裝\n",
      "29  路面狀況-路面狀態\n",
      "30  路面狀況-路面缺陷\n",
      "31  道路障礙-障礙物視距\n",
      "32  道路障礙-視距\n",
      "40  當事者行動狀態\n"
     ]
    }
   ],
   "source": [
    "for i in range(len(accident[0])):\n",
    "    print(i,accident[0][i], end = \" \")\n",
    "print(\"\")\n",
    "\n",
    "effective_item = [6,7,12,13,19,20,21,23,24,25,27,28,29,30,31,32,40]\n",
    "for i in effective_item:\n",
    "    print(i,accident[0][i])\n",
    "\n",
    "for i in accident:\n",
    "    #print(i[7],end = \" \")\n",
    "    try:\n",
    "        if i[7] == \"-1\":\n",
    "            i[7] = None\n",
    "        else:\n",
    "            # age 轉換成年齡範圍\n",
    "            i[7] = int(i[7])//10 * 10\n",
    "            #print(i[7])\n",
    "        if \"不明原因肇事\" in i[13]:\n",
    "            i[13] = None\n",
    "            \n",
    "    except:\n",
    "        pass\n",
    "    "
   ]
  },
  {
   "cell_type": "code",
   "execution_count": 46,
   "metadata": {},
   "outputs": [
    {
     "name": "stdout",
     "output_type": "stream",
     "text": [
      "6 14-直路\n",
      "7 30\n",
      "12 B03-自用\n",
      "13 None\n",
      "19 A1\n",
      "20 9\n",
      "21 車與車-對撞\n",
      "23 晴\n",
      "24 日間自然光線\n",
      "25 市區道路\n",
      "27 路段-一般車道(未劃分快慢車道)\n",
      "28 柏油\n",
      "29 乾燥\n",
      "30 無缺陷\n",
      "31 無障礙物\n",
      "32 良好\n",
      "40 車的狀態-向前直行中\n"
     ]
    }
   ],
   "source": [
    "for i in effective_item:\n",
    "    print(i,accident[1][i])"
   ]
  },
  {
   "cell_type": "code",
   "execution_count": null,
   "metadata": {},
   "outputs": [],
   "source": []
  }
 ],
 "metadata": {
  "kernelspec": {
   "display_name": "Python 3",
   "language": "python",
   "name": "python3"
  },
  "language_info": {
   "codemirror_mode": {
    "name": "ipython",
    "version": 3
   },
   "file_extension": ".py",
   "mimetype": "text/x-python",
   "name": "python",
   "nbconvert_exporter": "python",
   "pygments_lexer": "ipython3",
   "version": "3.6.5"
  }
 },
 "nbformat": 4,
 "nbformat_minor": 2
}
