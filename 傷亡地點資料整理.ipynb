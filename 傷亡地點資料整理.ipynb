{
 "cells": [
  {
   "cell_type": "code",
   "execution_count": 112,
   "metadata": {},
   "outputs": [
    {
     "name": "stdout",
     "output_type": "stream",
     "text": [
      "資料格式= <class 'numpy.ndarray'> (72298, 55)\n",
      "資料範本= [[' 發生年' ' 發生月' ' 發生日' ... ' 方向' ' 車道' ' 件數']\n",
      " ['106' '1' '4' ... ' ' ' ' '1']\n",
      " ['106' '1' '4' ... ' ' ' ' '1']\n",
      " ...\n",
      " ['106' '12' '16' ... ' ' '其他' '1']\n",
      " ['106' '12' '16' ... ' ' '其他' '1']\n",
      " ['106' '12' '16' ... ' ' '其他' '1']]\n",
      "資料格式= <class 'numpy.ndarray'> (103144, 12)\n",
      "資料範本= [['鄉鎮市' '路段' '巷' ... '' '' '']\n",
      " ['新莊區' '新莊區中正路' '429' ... '' '' '']\n",
      " ['三重區' '三重區重新路' '' ... '' '' '']\n",
      " ...\n",
      " ['永和區' '永和區中正路' '42' ... '' '' '']\n",
      " ['汐止區' '汐止區北山大橋路' '' ... '' '' '']\n",
      " ['永和區' '永和區中正路' '2' ... '' '' '']]\n"
     ]
    }
   ],
   "source": [
    "#載入資料\n",
    "import csv\n",
    "import numpy as np\n",
    "\n",
    "# 開啟 CSV 檔案\n",
    "with open('106年樞紐分析表(有交叉路名及其他地點).csv', newline='',encoding=\"big5\") as accident:\n",
    "    accident = csv.reader(accident)\n",
    "    accident = [row for row in accident]\n",
    "    accident = np.array(accident)#rows是数据类型是‘list',转化为数组类型好处理\n",
    "    print(\"資料格式=\",type(accident),accident.shape)\n",
    "    print(\"資料範本=\",accident)\n",
    "    \n",
    "with open('路口經緯度對照表.csv', newline='',encoding=\"big5\") as contrast:\n",
    "    contrast = csv.reader(contrast)\n",
    "    contrast = [row for row in contrast]\n",
    "    contrast = np.array(contrast)#rows是数据类型是‘list',转化为数组类型好处理\n",
    "    print(\"資料格式=\",type(contrast),contrast.shape)\n",
    "    print(\"資料範本=\",contrast)\n"
   ]
  },
  {
   "cell_type": "code",
   "execution_count": 113,
   "metadata": {
    "scrolled": false
   },
   "outputs": [
    {
     "name": "stdout",
     "output_type": "stream",
     "text": [
      " 發生年： 106 106\n",
      " 發生月： 12 4\n",
      " 發生日： 10 1\n",
      " 處理單位(分局別)： 中和分局 新莊分局\n",
      " 處理單位(派出所)： 中和交通分隊 新莊交通分隊\n",
      " 鄉鎮市： 板橋區 板橋區\n",
      " 道路型態： 14-直路 14-直路\n",
      " 年齡： 18 0\n",
      " 屬性： 男 男\n",
      " 死亡人數： 0 1\n",
      " 受傷人數： 1 0\n",
      " 當事人別： 1 2\n",
      " 當事者區分： C03-普通重型 C03-普通重型\n",
      " 肇事原因： 44尚未發現肇事因素 67尚未發現肇事因素\n",
      " 路段： 新莊區中正路 新莊區中正路\n",
      " 巷：    \n",
      " 弄：    \n",
      " 門牌號：    \n",
      " 交叉路名：  \n",
      " 事故類別： A2 A1\n",
      " 發生時間： 8 18\n",
      " 事故類型及型態： 車與車-側撞 車與車-側撞\n",
      " 其他地點：  \n",
      " 天候： 晴 晴\n",
      " 光線： 日間自然光線 日間自然光線\n",
      " 道路類別： 市區道路 市區道路\n",
      " 速限： 50 50\n",
      " 事故位置： 路段-一般車道(未劃分快慢車道) 路段-一般車道(未劃分快慢車道)\n",
      " 路面狀況-路面鋪裝： 柏油 柏油\n",
      " 路面狀況-路面狀態： 乾燥 乾燥\n",
      " 路面狀況-路面缺陷： 無缺陷 無缺陷\n",
      " 道路障礙-障礙物視距： 無障礙物 無障礙物\n",
      " 道路障礙-視距： 良好 良好\n",
      " 號誌-號誌種類： 無號誌 無號誌\n",
      " 號誌-號誌動作： 無號誌 無號誌\n",
      " 車道劃分設施-分道設施-快車道或一般車道間： 未繪設車道線 車道線(無標記)\n",
      " 車道劃分設施-分道設施-快慢車道間： 未繪設快慢車道分隔線 未繪設快慢車道分隔線\n",
      " 車道劃分設施-分道設施-路面邊線： 有 有\n",
      " 車道劃分設施-分向設施： 無標記 無標記\n",
      " 保護裝備： 戴安全帽或繫安全帶(使用幼童安全椅) 戴安全帽或繫安全帶(使用幼童安全椅)\n",
      " 當事者行動狀態： 車的狀態-向前直行中 車的狀態-向前直行中\n",
      " 駕駛資格情形： 有適當之駕照 有適當之駕照\n",
      " 駕駛執照種類： 機車駕照-普通重型 機車駕照-普通重型\n",
      " 飲酒情形： 經檢測無酒精反應 經檢測無酒精反應\n",
      " 交通事故逃逸： 否 否\n",
      " 受傷程度： 受傷 24小時內死亡\n",
      " 主要傷處： 多數傷 多數傷\n",
      " 行動電話、電腦或其他相類功能裝置： 未使用 未使用\n",
      " 肇事逃逸： 否 否\n",
      " 公路：    \n",
      " 公里： 0.0 0.0\n",
      " 公尺： 0.0 0.0\n",
      " 方向：    \n",
      " 車道： 其他 其他\n",
      " 件數： 1 1\n"
     ]
    }
   ],
   "source": [
    "# item 項目， [發生年' ' 發生月' ' 發生日' ... ' 方向' ' 車道' ' 件數']\n",
    "# event 交通事件，車與車-對撞車與車-對撞、車與車-對向擦撞、車與車-路口交岔撞\n",
    "\n",
    "# 擷取每個項目中最易發生事故的場景\n",
    "\n",
    "compare = {}\n",
    "for item in range(len(accident[1])):\n",
    "    item_event = {}\n",
    "    for event in range(len(accident)):\n",
    "        content = accident[event][item]\n",
    "        if content in item_event:\n",
    "            item_event[content] += 1\n",
    "        else:\n",
    "            item_event[content] = 1\n",
    "    #print(item_event) \n",
    "    compare[accident[0][item]] = [max(item_event, key = item_event.get)]\n",
    "\n",
    "for item in range(len(accident[1])):\n",
    "    item_event = {}\n",
    "    for event in range(1, len(accident)):\n",
    "        content = accident[event][item]\n",
    "        if int(accident[event][9])>= 1:\n",
    "            if content in item_event:\n",
    "                item_event[content] += 1\n",
    "            else:\n",
    "                item_event[content] = 1\n",
    "    #print(item_event)\n",
    "    compare[accident[0][item]].append(max(item_event, key = item_event.get)) \n",
    "    \n",
    "for i in compare:\n",
    "    print(i+\"：\",compare[i][0],compare[i][1])"
   ]
  },
  {
   "cell_type": "code",
   "execution_count": 114,
   "metadata": {},
   "outputs": [],
   "source": [
    "#建立道路與座標映射表\n",
    "contrasts = {}\n",
    "for item in contrast[1:]:\n",
    "    #print(item[8],item[7])\n",
    "    if item[8] == \"\":\n",
    "        continue\n",
    "    contrasts[item[1]] = [float(item[8]),float(item[7])]\n",
    "    "
   ]
  },
  {
   "cell_type": "code",
   "execution_count": 134,
   "metadata": {
    "scrolled": false
   },
   "outputs": [],
   "source": [
    "#映射表檢查\n",
    "# contrasts"
   ]
  },
  {
   "cell_type": "code",
   "execution_count": 116,
   "metadata": {},
   "outputs": [
    {
     "name": "stdout",
     "output_type": "stream",
     "text": [
      "24小時內死亡 114\n",
      "受傷 43074\n",
      "未受傷 25897\n",
      "總件數 72298\n"
     ]
    }
   ],
   "source": [
    "#建立傷害計數\n",
    "hurt = []\n",
    "for row in accident:\n",
    "    hurt.append(row[45])\n",
    "print(\"24小時內死亡\",hurt.count(\"24小時內死亡\"))\n",
    "print(\"受傷\",hurt.count(\"受傷\"))\n",
    "print(\"未受傷\",hurt.count(\"未受傷\"))\n",
    "\n",
    "#總件數\n",
    "print(\"總件數\",len(hurt))"
   ]
  },
  {
   "cell_type": "code",
   "execution_count": 117,
   "metadata": {},
   "outputs": [
    {
     "name": "stdout",
     "output_type": "stream",
     "text": [
      "1\n"
     ]
    },
    {
     "data": {
      "text/plain": [
       "['1']"
      ]
     },
     "execution_count": 117,
     "metadata": {},
     "output_type": "execute_result"
    }
   ],
   "source": [
    "#手動直接複製貼上 24hr 30d內死亡的案件\n",
    "# 路段 八里區中山路3段 八里區中山路3段 三芝區淡金公路 三重區 三重區仁美街 三重區自強路 三重區重新路2段 三重區集賢路 三峽區中正路3段 三峽區介壽路 三峽區介壽路 三峽區弘道路 三峽區弘道路 土城區中央路1段 土城區中央路2段 土城區中央路3段 土城區中央路4段 土城區金城路3段 土城區金城路3段 土城區裕民路 土城區擺接堡路 中和區 中和區中正路 中和區中正路 中和區中正路 中和區中和路 中和區民安街 中和區民德路 中和區光中路 中和區安平路 中和區安樂路 中和區宜安路 中和區員山路 中和區員山路 中和區景平路 中和區景平路 中和區新北環快道路 中和區環河西路 中和區環河西路3段 五股區中直路 五股區中港東路 五股區中興路2段 五股區成泰路1段 五股區成泰路1段 五股區疏洪一路 五股區疏洪一路 五股區疏洪一路 永和區中正橋道路 永和區環河東路1段 永和區環河東路3段 石門區台二線道路 石門區臺2線道路 石碇區 石碇區靜安路 汐止區大同路2段 汐止區民權街2段 汐止區同興路 汐止區汐萬路3段 汐止區福德一路 坪林區北宜公路 坪林區北宜路 坪林區北宜路 坪林區無名路 板橋區三民路2段 板橋區三民路2段 板橋區三民路2段 板橋區大觀路1段 板橋區中山路2段 板橋區中正路 板橋區文化路2段 板橋區民族路 板橋區板城路 板橋區南雅西路2段 板橋區國慶路 板橋區富山街 板橋區新崑路 板橋區新崑路 板橋區實踐路 板橋區漢生東路 板橋區漢生東路 板橋區漢生東路1段 板橋區臺65線道路 板橋區臺65線道路 板橋區臺65線道路 板橋區篤行路2段 板橋區篤行路3段 板橋區環河西路4段 板橋區環河西路4段 板橋區環河西路4段 板橋區環河西路5段 板橋區環河西路5段 板橋區環河西路5段 林口區106縣道 林口區文化一路2段 林口區忠孝路 金山區台二線道路 金山區台二線道路 泰山區文化街 泰山區泰山路 貢寮區臺2線道路 貢寮區臺2線道路 淡水區中正東路2段 淡水區中正東路2段 淡水區中正路2段 淡水區淡金路4段 新店區 新店區北宜路 新店區祥和路 新店區新北環快道路 新店區溪園路 新店區碧潭橋道路 新店區寶橋路 新莊區中平路 新莊區中正路 新莊區中正路 新莊區中正路 新莊區中和街 新莊區中原路 新莊區重新堤外道路 新莊區新五路 新莊區瓊林南路 瑞芳區魚桀魚坑路 瑞芳區臺62甲線道路 萬里區 萬里區臺二線道路 樹林區三俊街 樹林區三興路 樹林區佳園路2段 樹林區板林路 樹林區俊英街 樹林區柑園街2段 樹林區環漢路5段 樹林區環漢路5段 雙溪區臺2丙線道路 蘆洲區中正路 蘆洲區永樂街 蘆洲區復興路 蘆洲區環堤大道路 蘆洲區環堤大道路 鶯歌區尖山路 鶯歌區堤外道路 鶯歌區鶯桃路\n",
    "# 轉換程死亡道路 list\n",
    "dead_list = input().split()\n",
    "dead_list"
   ]
  },
  {
   "cell_type": "code",
   "execution_count": 118,
   "metadata": {},
   "outputs": [
    {
     "name": "stdout",
     "output_type": "stream",
     "text": [
      "死亡字典 {}\n",
      "死亡座標 []\n"
     ]
    }
   ],
   "source": [
    "# 應用上面的映射表，建立死亡作標 dict, list\n",
    "dead_dict = {}\n",
    "dead_pos = []\n",
    "for i in dead_list[1:]:\n",
    "    #print(i)\n",
    "    i = i.replace('1段', '一段')\n",
    "    i = i.replace('2段', '二段')\n",
    "    i = i.replace('3段', '三段')\n",
    "    i = i.replace('4段', '四段')\n",
    "    i = i.replace('5段', '五段')    \n",
    "    dead_dict[i] = contrasts[i]\n",
    "    dead_pos.append(contrasts[i])\n",
    "print(\"死亡字典\", dead_dict)\n",
    "print(\"死亡座標\", dead_pos)"
   ]
  },
  {
   "cell_type": "code",
   "execution_count": 119,
   "metadata": {},
   "outputs": [
    {
     "data": {
      "text/plain": [
       "array([[' 發生年', ' 發生月', ' 發生日', ..., ' 方向', ' 車道', ' 件數'],\n",
       "       ['106', '1', '4', ..., ' ', ' ', '1'],\n",
       "       ['106', '1', '4', ..., ' ', ' ', '1'],\n",
       "       ...,\n",
       "       ['106', '12', '16', ..., ' ', '其他', '1'],\n",
       "       ['106', '12', '16', ..., ' ', '其他', '1'],\n",
       "       ['106', '12', '16', ..., ' ', '其他', '1']], dtype='<U36')"
      ]
     },
     "execution_count": 119,
     "metadata": {},
     "output_type": "execute_result"
    }
   ],
   "source": [
    "accident"
   ]
  },
  {
   "cell_type": "code",
   "execution_count": 120,
   "metadata": {},
   "outputs": [],
   "source": [
    "temp = []\n",
    "temp.append(accident[0][6])\n",
    "temp.append(accident[0][7])\n",
    "temp.append(accident[0][8])\n",
    "temp.append(accident[0][9])\n",
    "temp.append(accident[0][10])\n",
    "temp.append(accident[0][11])\n",
    "\n",
    "temp.append(accident[0][19])\n",
    "temp.append(accident[0][23])\n",
    "# temp.append(accident[0][24])\n",
    "# temp.append(accident[0][39])\n",
    "# temp.append(accident[0][40])\n",
    "temp.append(accident[0][41])\n",
    "temp.append(accident[0][43])"
   ]
  },
  {
   "cell_type": "code",
   "execution_count": 121,
   "metadata": {},
   "outputs": [
    {
     "data": {
      "text/plain": [
       "[' 道路型態',\n",
       " ' 年齡',\n",
       " ' 屬性',\n",
       " ' 死亡人數',\n",
       " ' 受傷人數',\n",
       " ' 當事人別',\n",
       " ' 事故類別',\n",
       " ' 天候',\n",
       " ' 駕駛資格情形',\n",
       " ' 飲酒情形']"
      ]
     },
     "execution_count": 121,
     "metadata": {},
     "output_type": "execute_result"
    }
   ],
   "source": [
    "temp"
   ]
  },
  {
   "cell_type": "code",
   "execution_count": 122,
   "metadata": {},
   "outputs": [],
   "source": [
    "acc = list(accident)\n",
    "c = []\n",
    "for item in acc:\n",
    "    c.append(list(item))"
   ]
  },
  {
   "cell_type": "code",
   "execution_count": 123,
   "metadata": {},
   "outputs": [
    {
     "data": {
      "text/plain": [
       "'26'"
      ]
     },
     "execution_count": 123,
     "metadata": {},
     "output_type": "execute_result"
    }
   ],
   "source": [
    "c[2][13][0:2]"
   ]
  },
  {
   "cell_type": "code",
   "execution_count": 138,
   "metadata": {},
   "outputs": [],
   "source": [
    "roadtype = []\n",
    "age = []\n",
    "sexual = []\n",
    "deadcount = []\n",
    "injcount = []\n",
    "peoplecount = []\n",
    "eventtype = []\n",
    "weather = []\n",
    "license = []\n",
    "drunk = []\n",
    "\n",
    "reason =[]\n",
    "\n",
    "for i in range(1,len(c)):\n",
    "    roadtype.append(int(c[i][6].split('-')[0]))\n",
    "    age.append(int(c[i][7]))\n",
    "    if c[i][8] == '男':\n",
    "        sexual.append(0)\n",
    "    elif c[i][8] == '女':\n",
    "        sexual.append(1)\n",
    "    else:\n",
    "        sexual.append(-1)\n",
    "    deadcount.append(int(c[i][9]))\n",
    "    injcount.append(int(c[i][10]))\n",
    "    peoplecount.append(int(c[i][11]))\n",
    "    \n",
    "    if c[i][19] == 'A1':\n",
    "        eventtype.append(1)\n",
    "    else:\n",
    "        eventtype.append(2)\n",
    "        \n",
    "    if c[i][23] == '陰':\n",
    "        weather.append(0)\n",
    "    elif c[i][23] == '晴':\n",
    "        weather.append(1)\n",
    "    elif c[i][23] == '雨':\n",
    "        weather.append(2)\n",
    "        \n",
    "    if c[i][41] == '有適當之駕照':\n",
    "        license.append(1)\n",
    "    else:\n",
    "        license.append(0)\n",
    "    \n",
    "    if c[i][43] == '經檢測無酒精反應' or c[i][43] == '非駕駛人，未檢測':\n",
    "        drunk.append(0)\n",
    "    else:\n",
    "        drunk.append(1)\n",
    "        \n",
    "    reason.append(int(c[i][13][0:2]))"
   ]
  },
  {
   "cell_type": "code",
   "execution_count": 166,
   "metadata": {},
   "outputs": [],
   "source": [
    "test_data = []\n",
    "test_label = []\n",
    "target_data = []\n",
    "for i in range(72184):\n",
    "    data = []\n",
    "    data.append(roadtype[i])\n",
    "    data.append(age[i])\n",
    "    data.append(sexual[i])\n",
    "    data.append(deadcount[i])\n",
    "    data.append(injcount[i])\n",
    "    data.append(peoplecount[i])\n",
    "    data.append(eventtype[i])\n",
    "    data.append(weather[i])\n",
    "    data.append(license[i])\n",
    "    data.append(drunk[i])\n",
    "    if -1 not in data:\n",
    "        if reason[i] == 43 or reason[i] == 63 or reason[i] == 44 or reason[i] == 67:\n",
    "            target_data.append(data)\n",
    "        else:\n",
    "            test_data.append(data)\n",
    "            test_label.append(reason[i])"
   ]
  },
  {
   "cell_type": "code",
   "execution_count": 126,
   "metadata": {},
   "outputs": [],
   "source": [
    "## [' 道路型態',' 年齡', ' 屬性',' 死亡人數',' 受傷人數',' 當事人別',' 事故類別',' 天候',' 光線',' 保護裝備',' 當事者行動狀態',' 駕駛資格情形',' 飲酒情形'"
   ]
  },
  {
   "cell_type": "code",
   "execution_count": 167,
   "metadata": {},
   "outputs": [],
   "source": [
    "from sklearn import datasets\n",
    "from sklearn.model_selection import train_test_split\n",
    "from sklearn.neighbors import KNeighborsClassifier\n",
    "import numpy as np\n",
    "\n",
    "train_data , ttest_data , train_label , ttest_label = train_test_split(test_data,test_label,test_size=0.2)"
   ]
  },
  {
   "cell_type": "code",
   "execution_count": 168,
   "metadata": {},
   "outputs": [],
   "source": [
    "knn = KNeighborsClassifier()"
   ]
  },
  {
   "cell_type": "code",
   "execution_count": 181,
   "metadata": {},
   "outputs": [
    {
     "data": {
      "text/plain": [
       "KNeighborsClassifier(algorithm='auto', leaf_size=30, metric='minkowski',\n",
       "           metric_params=None, n_jobs=None, n_neighbors=5, p=2,\n",
       "           weights='uniform')"
      ]
     },
     "execution_count": 181,
     "metadata": {},
     "output_type": "execute_result"
    }
   ],
   "source": [
    "knn.fit(train_data,train_label)"
   ]
  },
  {
   "cell_type": "code",
   "execution_count": 182,
   "metadata": {},
   "outputs": [],
   "source": [
    "p = knn.predict(ttest_data)"
   ]
  },
  {
   "cell_type": "code",
   "execution_count": 183,
   "metadata": {},
   "outputs": [
    {
     "data": {
      "text/plain": [
       "0.26682215743440235"
      ]
     },
     "execution_count": 183,
     "metadata": {},
     "output_type": "execute_result"
    }
   ],
   "source": [
    "knn.score(ttest_data,ttest_label)"
   ]
  },
  {
   "cell_type": "code",
   "execution_count": 180,
   "metadata": {},
   "outputs": [
    {
     "data": {
      "text/plain": [
       "array([23,  6, 23, 23, 23, 17,  6, 10,  6, 23, 23, 23,  6,  6, 17,  1, 23,\n",
       "        6,  6, 23])"
      ]
     },
     "execution_count": 180,
     "metadata": {},
     "output_type": "execute_result"
    }
   ],
   "source": [
    "p[0:20]"
   ]
  },
  {
   "cell_type": "code",
   "execution_count": 179,
   "metadata": {},
   "outputs": [
    {
     "data": {
      "text/plain": [
       "[26, 21, 14, 53, 15, 52, 15, 23, 25, 15, 60, 26, 38, 23, 14, 25, 4, 8, 23, 38]"
      ]
     },
     "execution_count": 179,
     "metadata": {},
     "output_type": "execute_result"
    }
   ],
   "source": [
    "test_label[0:20]"
   ]
  },
  {
   "cell_type": "code",
   "execution_count": 174,
   "metadata": {},
   "outputs": [],
   "source": [
    "target_predict = knn.predict(target_data)"
   ]
  },
  {
   "cell_type": "code",
   "execution_count": 176,
   "metadata": {},
   "outputs": [
    {
     "data": {
      "text/plain": [
       "array([23, 23, 23, 23, 23, 23, 23, 42, 23, 17, 23, 14, 23, 51, 23, 23, 23,\n",
       "       51, 16, 16])"
      ]
     },
     "execution_count": 176,
     "metadata": {},
     "output_type": "execute_result"
    }
   ],
   "source": [
    "target_predict[0:20]"
   ]
  },
  {
   "cell_type": "code",
   "execution_count": null,
   "metadata": {},
   "outputs": [],
   "source": []
  },
  {
   "cell_type": "code",
   "execution_count": null,
   "metadata": {},
   "outputs": [],
   "source": []
  }
 ],
 "metadata": {
  "kernelspec": {
   "display_name": "Python 3",
   "language": "python",
   "name": "python3"
  },
  "language_info": {
   "codemirror_mode": {
    "name": "ipython",
    "version": 3
   },
   "file_extension": ".py",
   "mimetype": "text/x-python",
   "name": "python",
   "nbconvert_exporter": "python",
   "pygments_lexer": "ipython3",
   "version": "3.7.0"
  }
 },
 "nbformat": 4,
 "nbformat_minor": 2
}
