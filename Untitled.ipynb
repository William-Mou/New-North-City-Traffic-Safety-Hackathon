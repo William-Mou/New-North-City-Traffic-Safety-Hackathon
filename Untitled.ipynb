{
 "cells": [
  {
   "cell_type": "code",
   "execution_count": 3,
   "metadata": {},
   "outputs": [],
   "source": [
    "import json\n",
    "\n",
    "with open('Township.json', 'r') as data:\n",
    "    load_data = json.load(data)\n",
    "    final_data = list();\n",
    "    for i in load_data:\n",
    "        if(i['鄉鎮市']== '鶯歌區'):\n",
    "            final_data.append(i)"
   ]
  },
  {
   "cell_type": "code",
   "execution_count": 4,
   "metadata": {},
   "outputs": [
    {
     "ename": "TypeError",
     "evalue": "list indices must be integers or slices, not str",
     "output_type": "error",
     "traceback": [
      "\u001b[0;31m---------------------------------------------------------------------------\u001b[0m",
      "\u001b[0;31mTypeError\u001b[0m                                 Traceback (most recent call last)",
      "\u001b[0;32m<ipython-input-4-97b02dbd8d27>\u001b[0m in \u001b[0;36m<module>\u001b[0;34m()\u001b[0m\n\u001b[0;32m----> 1\u001b[0;31m \u001b[0mfinal_data\u001b[0m\u001b[0;34m[\u001b[0m\u001b[0;34m'年齡'\u001b[0m\u001b[0;34m]\u001b[0m\u001b[0;34m\u001b[0m\u001b[0m\n\u001b[0m",
      "\u001b[0;31mTypeError\u001b[0m: list indices must be integers or slices, not str"
     ]
    }
   ],
   "source": [
    "final_data['年齡']"
   ]
  },
  {
   "cell_type": "code",
   "execution_count": 73,
   "metadata": {},
   "outputs": [],
   "source": [
    "with open('傷亡/鶯歌區.json', 'w') as file:\n",
    "    json.dump(final_data, file)"
   ]
  },
  {
   "cell_type": "code",
   "execution_count": 10,
   "metadata": {},
   "outputs": [],
   "source": [
    "with open('傷亡/三芝區.json', 'r') as f:\n",
    "    d = json.load(f)"
   ]
  },
  {
   "cell_type": "code",
   "execution_count": 7,
   "metadata": {},
   "outputs": [],
   "source": [
    "with open('Township.json', 'r') as init_data:\n",
    "    load_data = json.load(init_data)\n",
    "    ten = 0\n",
    "    twenty = 0\n",
    "    third = 0\n",
    "    four = 0\n",
    "    five = 0\n",
    "    six = 0\n",
    "    \n",
    "    total = 0\n",
    "    for data in load_data:\n",
    "        if int(data['年齡'])/10 == 1:\n",
    "            ten = ten + 1\n",
    "            total = total + 1\n",
    "        elif int(data['年齡'])/10 == 2:\n",
    "            twenty = twenty + 1\n",
    "            total = total + 1\n",
    "        elif int(data['年齡'])/10 == 3:\n",
    "            third = third + 1\n",
    "            total = total + 1\n",
    "        elif int(data['年齡'])/10 == 4:\n",
    "            four = four + 1\n",
    "            total = total + 1\n",
    "        elif int(data['年齡'])/10 == 5:\n",
    "            five = five + 1\n",
    "            total = total + 1\n",
    "        elif int(data['年齡'])/10 >= 6:\n",
    "            six = six + 1\n",
    "            total = total + 1"
   ]
  },
  {
   "cell_type": "code",
   "execution_count": 10,
   "metadata": {},
   "outputs": [
    {
     "data": {
      "text/plain": [
       "0.5507631055076311"
      ]
     },
     "execution_count": 10,
     "metadata": {},
     "output_type": "execute_result"
    }
   ],
   "source": [
    "ten/total * 100"
   ]
  },
  {
   "cell_type": "code",
   "execution_count": 11,
   "metadata": {},
   "outputs": [
    {
     "data": {
      "text/plain": [
       "15.978765759787658"
      ]
     },
     "execution_count": 11,
     "metadata": {},
     "output_type": "execute_result"
    }
   ],
   "source": [
    "twenty/total * 100"
   ]
  },
  {
   "cell_type": "code",
   "execution_count": 12,
   "metadata": {},
   "outputs": [
    {
     "data": {
      "text/plain": [
       "8.221632382216324"
      ]
     },
     "execution_count": 12,
     "metadata": {},
     "output_type": "execute_result"
    }
   ],
   "source": [
    "third/total * 100"
   ]
  },
  {
   "cell_type": "code",
   "execution_count": 13,
   "metadata": {},
   "outputs": [
    {
     "data": {
      "text/plain": [
       "9.00464499004645"
      ]
     },
     "execution_count": 13,
     "metadata": {},
     "output_type": "execute_result"
    }
   ],
   "source": [
    "four/total * 100"
   ]
  },
  {
   "cell_type": "code",
   "execution_count": 14,
   "metadata": {},
   "outputs": [
    {
     "data": {
      "text/plain": [
       "6.907763769077638"
      ]
     },
     "execution_count": 14,
     "metadata": {},
     "output_type": "execute_result"
    }
   ],
   "source": [
    "five/total * 100"
   ]
  },
  {
   "cell_type": "code",
   "execution_count": 15,
   "metadata": {},
   "outputs": [
    {
     "data": {
      "text/plain": [
       "59.336429993364305"
      ]
     },
     "execution_count": 15,
     "metadata": {},
     "output_type": "execute_result"
    }
   ],
   "source": [
    "six/total * 100"
   ]
  },
  {
   "cell_type": "code",
   "execution_count": 31,
   "metadata": {},
   "outputs": [],
   "source": [
    "with open('Township.json', 'r') as init_data:\n",
    "    load_data = json.load(init_data)\n",
    "    data_dict = {}\n",
    "    for i in load_data:\n",
    "        if i['飲酒情形'] == '經檢測無酒精反應' or i['飲酒情形'] == '經觀察未飲酒':\n",
    "            if '未飲酒' in data_dict:\n",
    "                data_dict['未飲酒'] = data_dict['未飲酒'] + 1\n",
    "            else:\n",
    "                data_dict['未飲酒']  = 1\n",
    "        elif i['飲酒情形'] == '不明':\n",
    "            if '不明' in data_dict:\n",
    "                data_dict['不明'] = data_dict['不明'] + 1\n",
    "            else:\n",
    "                data_dict['不明']  = 1\n",
    "        else: \n",
    "            if '有飲酒' in data_dict:\n",
    "                data_dict['有飲酒'] = data_dict['有飲酒'] + 1\n",
    "            else:\n",
    "                data_dict['有飲酒']  = 1"
   ]
  },
  {
   "cell_type": "code",
   "execution_count": 32,
   "metadata": {},
   "outputs": [
    {
     "data": {
      "text/plain": [
       "{'未飲酒': 59469, '有飲酒': 11540, '不明': 1288}"
      ]
     },
     "execution_count": 32,
     "metadata": {},
     "output_type": "execute_result"
    }
   ],
   "source": [
    "data_dict"
   ]
  },
  {
   "cell_type": "code",
   "execution_count": 41,
   "metadata": {},
   "outputs": [],
   "source": [
    "for i in data_dict:\n",
    "    total = data_dict[i] + total"
   ]
  },
  {
   "cell_type": "code",
   "execution_count": 42,
   "metadata": {},
   "outputs": [
    {
     "data": {
      "text/plain": [
       "73585"
      ]
     },
     "execution_count": 42,
     "metadata": {},
     "output_type": "execute_result"
    }
   ],
   "source": [
    "total"
   ]
  },
  {
   "cell_type": "code",
   "execution_count": 43,
   "metadata": {},
   "outputs": [
    {
     "data": {
      "text/plain": [
       "80.81674254263777"
      ]
     },
     "execution_count": 43,
     "metadata": {},
     "output_type": "execute_result"
    }
   ],
   "source": [
    "data_dict['未飲酒']/total * 100"
   ]
  },
  {
   "cell_type": "code",
   "execution_count": 44,
   "metadata": {},
   "outputs": [
    {
     "data": {
      "text/plain": [
       "15.682543996738465"
      ]
     },
     "execution_count": 44,
     "metadata": {},
     "output_type": "execute_result"
    }
   ],
   "source": [
    "data_dict['有飲酒']/total * 100"
   ]
  },
  {
   "cell_type": "code",
   "execution_count": 45,
   "metadata": {},
   "outputs": [
    {
     "data": {
      "text/plain": [
       "1.7503567303118843"
      ]
     },
     "execution_count": 45,
     "metadata": {},
     "output_type": "execute_result"
    }
   ],
   "source": [
    "data_dict['不明']/total * 100"
   ]
  },
  {
   "cell_type": "code",
   "execution_count": null,
   "metadata": {},
   "outputs": [],
   "source": []
  }
 ],
 "metadata": {
  "kernelspec": {
   "display_name": "Python 3",
   "language": "python",
   "name": "python3"
  },
  "language_info": {
   "codemirror_mode": {
    "name": "ipython",
    "version": 3
   },
   "file_extension": ".py",
   "mimetype": "text/x-python",
   "name": "python",
   "nbconvert_exporter": "python",
   "pygments_lexer": "ipython3",
   "version": "3.7.0"
  }
 },
 "nbformat": 4,
 "nbformat_minor": 2
}
